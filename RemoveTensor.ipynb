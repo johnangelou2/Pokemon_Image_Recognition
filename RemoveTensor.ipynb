{
 "cells": [
  {
   "cell_type": "code",
   "execution_count": 1,
   "metadata": {},
   "outputs": [],
   "source": [
    "import os"
   ]
  },
  {
   "cell_type": "code",
   "execution_count": 2,
   "metadata": {},
   "outputs": [],
   "source": [
    "# navigate to 'DataSet/VGG2_Gen2_NewAug_V3' folder\n",
    "os.chdir('DataSet/VGG2_Gen2_NewAug_V3/Training')"
   ]
  },
  {
   "cell_type": "code",
   "execution_count": 4,
   "metadata": {},
   "outputs": [],
   "source": [
    "# loop through all the folders in the current directory\n",
    "for folder in os.listdir():\n",
    "    # loop through all the files in the current directory\n",
    "    for file in os.listdir(folder):\n",
    "        # Delete the file if it ends with .tensor\n",
    "        if file.endswith('.tensor'):\n",
    "            os.remove(os.path.join(folder, file))"
   ]
  }
 ],
 "metadata": {
  "kernelspec": {
   "display_name": "Python 3",
   "language": "python",
   "name": "python3"
  },
  "language_info": {
   "codemirror_mode": {
    "name": "ipython",
    "version": 3
   },
   "file_extension": ".py",
   "mimetype": "text/x-python",
   "name": "python",
   "nbconvert_exporter": "python",
   "pygments_lexer": "ipython3",
   "version": "3.10.11"
  },
  "orig_nbformat": 4
 },
 "nbformat": 4,
 "nbformat_minor": 2
}
